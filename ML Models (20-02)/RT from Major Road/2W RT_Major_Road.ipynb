{
 "cells": [
  {
   "cell_type": "code",
   "execution_count": null,
   "metadata": {},
   "outputs": [],
   "source": [
    "import pandas as pd\n",
    "import numpy as np\n",
    "import matplotlib.pyplot as plt\n",
    "from sklearn.model_selection import train_test_split\n",
    "from sklearn.preprocessing import MinMaxScaler\n",
    "from sklearn.metrics import mean_absolute_error, mean_squared_error\n",
    "import tensorflow as tf\n",
    "from sklearn.metrics import r2_score\n",
    "from tensorflow.keras.models import Sequential\n",
    "from tensorflow.keras.layers import Dense, LSTM, Bidirectional, GRU, Conv1D, MaxPooling1D, Flatten, Dropout"
   ]
  },
  {
   "cell_type": "markdown",
   "metadata": {},
   "source": [
    "Load your dataset"
   ]
  },
  {
   "cell_type": "code",
   "execution_count": null,
   "metadata": {},
   "outputs": [],
   "source": [
    "data = pd.read_csv(\"2w.csv\")"
   ]
  },
  {
   "cell_type": "markdown",
   "metadata": {},
   "source": [
    "Features and Target variables"
   ]
  },
  {
   "cell_type": "code",
   "execution_count": null,
   "metadata": {},
   "outputs": [],
   "source": [
    "features = data[['CF(PCU/min)','CF*2(PCU/min)','%_of_4W','%_of_4W*2']].values\n",
    "\n",
    "# HV and LCV\n",
    "# features = data[['CF(PCU/min)','CF*2(PCU/min)','%_of_4W']].values\n",
    "\n",
    "target = data['SD'].values"
   ]
  },
  {
   "cell_type": "markdown",
   "metadata": {},
   "source": [
    "Normalize data"
   ]
  },
  {
   "cell_type": "code",
   "execution_count": null,
   "metadata": {},
   "outputs": [],
   "source": [
    "scaler = MinMaxScaler()\n",
    "features = scaler.fit_transform(features)"
   ]
  },
  {
   "cell_type": "markdown",
   "metadata": {},
   "source": [
    "Split data into train and test sets"
   ]
  },
  {
   "cell_type": "code",
   "execution_count": null,
   "metadata": {},
   "outputs": [],
   "source": [
    "X_train, X_test, y_train, y_test = train_test_split(features, target, test_size=0.2, random_state=42)"
   ]
  },
  {
   "cell_type": "markdown",
   "metadata": {},
   "source": [
    "Reshape the input data for all models"
   ]
  },
  {
   "cell_type": "code",
   "execution_count": null,
   "metadata": {},
   "outputs": [],
   "source": [
    "X_train_lstm = X_train.reshape((X_train.shape[0], X_train.shape[1], 1))\n",
    "X_test_lstm = X_test.reshape((X_test.shape[0], X_test.shape[1], 1))"
   ]
  },
  {
   "cell_type": "markdown",
   "metadata": {},
   "source": [
    "Define, Create and Evaluate Model"
   ]
  },
  {
   "cell_type": "code",
   "execution_count": null,
   "metadata": {},
   "outputs": [],
   "source": [
    "def create_lstm_model():\n",
    "    model = Sequential()\n",
    "    model.add(LSTM(128, activation='relu', input_shape=(X_train_lstm.shape[1], 1), return_sequences=True))\n",
    "    # model.add(Dropout(0.2))\n",
    "    model.add(LSTM(48, activation='relu', return_sequences=False))\n",
    "    model.add(Dense(1))\n",
    "    model.compile(optimizer='adam', loss='mse')\n",
    "    return model\n",
    "\n",
    "lstm_model = create_lstm_model()\n",
    "lstm_model.fit(X_train_lstm, y_train, epochs=800, batch_size=16, validation_data=(X_test_lstm, y_test), verbose=1)\n",
    "\n",
    "y_pred_lstm = lstm_model.predict(X_test_lstm)\n",
    "mae_lstm = mean_absolute_error(y_test, y_pred_lstm)\n",
    "mse_lstm = mean_squared_error(y_test, y_pred_lstm)\n",
    "rmse_lstm = np.sqrt(mse_lstm)\n",
    "r2_lstm = r2_score(y_test, y_pred_lstm)"
   ]
  },
  {
   "cell_type": "markdown",
   "metadata": {},
   "source": [
    "Visualize LSTM results"
   ]
  },
  {
   "cell_type": "code",
   "execution_count": null,
   "metadata": {},
   "outputs": [],
   "source": [
    "print(r2_lstm)\n",
    "plt.figure(figsize=(12, 6))\n",
    "plt.plot(y_test, label='Actual')\n",
    "plt.plot(y_pred_lstm, label='LSTM Prediction')\n",
    "plt.xlabel('Data Points')\n",
    "plt.ylabel('Service Delay (Sec/Veh)')\n",
    "plt.legend()\n",
    "plt.title('LSTM Model')\n",
    "plt.show()"
   ]
  },
  {
   "cell_type": "code",
   "execution_count": null,
   "metadata": {},
   "outputs": [],
   "source": [
    "def create_bilstm_model():\n",
    "    model = Sequential()\n",
    "    model.add(Bidirectional(LSTM(128, activation='relu', input_shape=(X_train_lstm.shape[1], 1), return_sequences=True)))\n",
    "    model.add(Bidirectional(LSTM(64, activation='relu', return_sequences=False)))\n",
    "    model.add(Dense(1))\n",
    "    model.compile(optimizer='adam', loss='mse')\n",
    "    return model\n",
    "\n",
    "bilstm_model = create_bilstm_model()\n",
    "bilstm_model.fit(X_train_lstm, y_train, epochs=600, batch_size=32, validation_data=(X_test_lstm, y_test), verbose=1)\n",
    "\n",
    "y_pred_bilstm = bilstm_model.predict(X_test_lstm)\n",
    "mae_bilstm = mean_absolute_error(y_test, y_pred_bilstm)\n",
    "mse_bilstm = mean_squared_error(y_test, y_pred_bilstm)\n",
    "rmse_bilstm=np.sqrt(mse_bilstm)\n",
    "r2_bilstm = r2_score(y_test, y_pred_bilstm)\n"
   ]
  },
  {
   "cell_type": "markdown",
   "metadata": {},
   "source": [
    "Visualize BiLSTM results"
   ]
  },
  {
   "cell_type": "code",
   "execution_count": null,
   "metadata": {},
   "outputs": [],
   "source": [
    "print(r2_bilstm)\n",
    "plt.figure(figsize=(12, 6))\n",
    "plt.plot(y_test, label='Actual')\n",
    "plt.plot(y_pred_bilstm, label='BiLSTM Prediction')\n",
    "plt.xlabel('Data Points')\n",
    "plt.ylabel('Service Delay(Sec/Veh)')\n",
    "plt.legend()\n",
    "plt.title('BiLSTM Model')\n",
    "plt.show()"
   ]
  },
  {
   "cell_type": "code",
   "execution_count": null,
   "metadata": {},
   "outputs": [],
   "source": [
    "def create_gru_model():\n",
    "    model = Sequential()\n",
    "    model.add(GRU(128, activation='relu', input_shape=(X_train_lstm.shape[1], 1), return_sequences=True))\n",
    "    model.add(GRU(48, activation='relu', return_sequences=False))  \n",
    "    model.add(Dense(1))\n",
    "    model.compile(optimizer='adam', loss='mse')\n",
    "    return model\n",
    "\n",
    "gru_model = create_gru_model()\n",
    "gru_model.fit(X_train_lstm, y_train, epochs=800, batch_size=16, validation_data=(X_test_lstm, y_test), verbose=1)\n",
    "\n",
    "y_pred_gru = gru_model.predict(X_test_lstm)\n",
    "mae_gru = mean_absolute_error(y_test, y_pred_gru)\n",
    "mse_gru = mean_squared_error(y_test, y_pred_gru)\n",
    "rmse_gru=np.sqrt(mse_gru)\n",
    "r2_gru = r2_score(y_test, y_pred_gru)"
   ]
  },
  {
   "cell_type": "markdown",
   "metadata": {},
   "source": [
    "Visualize GRU results"
   ]
  },
  {
   "cell_type": "code",
   "execution_count": null,
   "metadata": {},
   "outputs": [],
   "source": [
    "plt.figure(figsize=(12, 6))\n",
    "plt.plot(y_test, label='Actual')\n",
    "plt.plot(y_pred_gru, label='GRU Prediction')\n",
    "plt.xlabel('Data Points')\n",
    "plt.ylabel('Service Delay (Sec/Veh)')\n",
    "plt.legend()\n",
    "plt.title('GRU Model')\n",
    "plt.show()"
   ]
  },
  {
   "cell_type": "code",
   "execution_count": null,
   "metadata": {},
   "outputs": [],
   "source": [
    "def create_bigru_model():\n",
    "    model = Sequential()\n",
    "    model.add(Bidirectional(GRU(128, activation='relu', input_shape=(X_train_lstm.shape[1], 1), return_sequences=True)))\n",
    "    model.add(Bidirectional(GRU(48, activation='relu', return_sequences=False))) \n",
    "    model.add(Dense(1))\n",
    "    model.compile(optimizer='adam', loss='mse')\n",
    "    return model\n",
    "\n",
    "bigru_model = create_bigru_model()\n",
    "bigru_model.fit(X_train_lstm, y_train, epochs=800, batch_size=62, validation_data=(X_test_lstm, y_test), verbose=1)\n",
    "\n",
    "y_pred_bigru = bigru_model.predict(X_test_lstm)\n",
    "mae_bigru = mean_absolute_error(y_test, y_pred_bigru)\n",
    "mse_bigru = mean_squared_error(y_test, y_pred_bigru)\n",
    "rmse_bigru=np.sqrt(mse_bigru)\n",
    "r2_bigru = r2_score(y_test, y_pred_bigru)"
   ]
  },
  {
   "cell_type": "markdown",
   "metadata": {},
   "source": [
    "Visualize BiGRU results"
   ]
  },
  {
   "cell_type": "code",
   "execution_count": null,
   "metadata": {},
   "outputs": [],
   "source": [
    "print(r2_bigru)\n",
    "plt.figure(figsize=(12, 6))\n",
    "plt.plot(y_test, label='Actual')\n",
    "plt.plot(y_pred_bigru, label='BiGRU Prediction')\n",
    "plt.xlabel('Data Points')\n",
    "plt.ylabel('Service Delay (Sec/Veh)')\n",
    "plt.legend()\n",
    "plt.title('BiGRU Model')\n",
    "plt.show()"
   ]
  },
  {
   "cell_type": "code",
   "execution_count": null,
   "metadata": {},
   "outputs": [],
   "source": [
    "def create_cnn_model():\n",
    "    model = Sequential()\n",
    "    model.add(Conv1D(filters=128, kernel_size=2, activation='relu', input_shape=(X_train.shape[1], 1)))\n",
    "    model.add(MaxPooling1D(pool_size=1))\n",
    "    model.add(Flatten())\n",
    "    model.add(Dense(50, activation='relu'))\n",
    "    model.add(Dense(1))\n",
    "    model.compile(optimizer='adam', loss='mse')\n",
    "    return model\n",
    "\n",
    "cnn_model = create_cnn_model()\n",
    "cnn_model.fit(X_train.reshape((X_train.shape[0], X_train.shape[1], 1)), y_train, epochs=800, batch_size=16, validation_data=(X_test.reshape((X_test.shape[0], X_test.shape[1], 1)), y_test), verbose=1)\n",
    "\n",
    "y_pred_cnn = cnn_model.predict(X_test.reshape((X_test.shape[0], X_test.shape[1], 1)))\n",
    "mae_cnn = mean_absolute_error(y_test, y_pred_cnn)\n",
    "mse_cnn = mean_squared_error(y_test, y_pred_cnn)\n",
    "rmse_cnn=np.sqrt(mse_cnn)\n",
    "r2_cnn = r2_score(y_test, y_pred_cnn)"
   ]
  },
  {
   "cell_type": "markdown",
   "metadata": {},
   "source": [
    "Visualize CNN results"
   ]
  },
  {
   "cell_type": "code",
   "execution_count": null,
   "metadata": {},
   "outputs": [],
   "source": [
    "plt.figure(figsize=(12, 6))\n",
    "plt.plot(y_test, label='Actual')\n",
    "plt.plot(y_pred_cnn, label='CNN Prediction')\n",
    "plt.xlabel('Data Points')\n",
    "plt.ylabel('Service Delay (Sec/Veh)')\n",
    "plt.legend()\n",
    "plt.title('CNN Model')\n",
    "plt.show()"
   ]
  },
  {
   "cell_type": "code",
   "execution_count": null,
   "metadata": {},
   "outputs": [],
   "source": [
    "def create_cnn_lstm_model():\n",
    "    model = Sequential()\n",
    "    model.add(Conv1D(filters=128, kernel_size=2, activation='relu', input_shape=(X_train_lstm.shape[1], 1)))\n",
    "    model.add(MaxPooling1D(pool_size=1))\n",
    "    model.add(LSTM(50, activation='relu'))\n",
    "    model.add(Dense(1))\n",
    "    model.compile(optimizer='adam', loss='mse')\n",
    "    return model\n",
    "\n",
    "cnn_lstm_model = create_cnn_lstm_model()\n",
    "cnn_lstm_model.fit(X_train_lstm, y_train, epochs=800, batch_size=16, validation_data=(X_test_lstm, y_test), verbose=1)\n",
    "\n",
    "y_pred_cnn_lstm = cnn_lstm_model.predict(X_test_lstm)\n",
    "mae_cnn_lstm = mean_absolute_error(y_test, y_pred_cnn_lstm)\n",
    "mse_cnn_lstm = mean_squared_error(y_test, y_pred_cnn_lstm)\n",
    "rmse_cnn_lstm=np.sqrt(mse_cnn_lstm)\n",
    "r2_cnn_lstm = r2_score(y_test, y_pred_cnn_lstm)"
   ]
  },
  {
   "cell_type": "markdown",
   "metadata": {},
   "source": [
    "Visualize CNN_LSTM results"
   ]
  },
  {
   "cell_type": "code",
   "execution_count": null,
   "metadata": {},
   "outputs": [],
   "source": [
    "plt.figure(figsize=(12, 6))\n",
    "plt.plot(y_test, label='Actual')\n",
    "plt.plot(y_pred_cnn_lstm, label='CNN LSTM Prediction')\n",
    "plt.xlabel('Data Points')\n",
    "plt.ylabel('Service Delay (Sec/Veh)')\n",
    "plt.legend()\n",
    "plt.title('CNN LSTM Model')\n",
    "plt.show()"
   ]
  },
  {
   "cell_type": "code",
   "execution_count": null,
   "metadata": {},
   "outputs": [],
   "source": [
    "def create_cnn_bilstm_model():\n",
    "    model = Sequential()\n",
    "    model.add(Conv1D(filters=128, kernel_size=2, activation='relu', input_shape=(X_train_lstm.shape[1], 1)))\n",
    "    model.add(MaxPooling1D(pool_size=1))\n",
    "    model.add(Bidirectional(LSTM(50, activation='relu')))\n",
    "    model.add(Dense(1))\n",
    "    model.compile(optimizer='adam', loss='mse')\n",
    "    return model\n",
    "\n",
    "cnn_bilstm_model = create_cnn_bilstm_model()\n",
    "cnn_bilstm_model.fit(X_train_lstm, y_train, epochs=600, batch_size=32, validation_data=(X_test_lstm, y_test), verbose=1)\n",
    "\n",
    "y_pred_cnn_bilstm = cnn_bilstm_model.predict(X_test_lstm)\n",
    "mae_cnn_bilstm = mean_absolute_error(y_test, y_pred_cnn_bilstm)\n",
    "mse_cnn_bilstm = mean_squared_error(y_test, y_pred_cnn_bilstm)\n",
    "rmse_cnn_bilstm=np.sqrt(mse_cnn_bilstm)\n",
    "r2_cnn_bilstm = r2_score(y_test, y_pred_cnn_bilstm)"
   ]
  },
  {
   "cell_type": "markdown",
   "metadata": {},
   "source": [
    "Visualize CNN_BiLSTM results"
   ]
  },
  {
   "cell_type": "code",
   "execution_count": null,
   "metadata": {},
   "outputs": [],
   "source": [
    "plt.figure(figsize=(12, 6))\n",
    "plt.plot(y_test, label='Actual')\n",
    "plt.plot(y_pred_cnn_bilstm, label='CNN BiLSTM Prediction')\n",
    "plt.xlabel('Data Points')\n",
    "plt.ylabel('Service Delay (Sec/Veh)')\n",
    "plt.legend()\n",
    "plt.title('CNN BiLSTM Model')\n",
    "plt.show()"
   ]
  },
  {
   "cell_type": "markdown",
   "metadata": {},
   "source": [
    "Visualize metrics"
   ]
  },
  {
   "cell_type": "code",
   "execution_count": null,
   "metadata": {},
   "outputs": [],
   "source": [
    "models = ['LSTM', 'BiLSTM', 'GRU', 'BiGRU', 'CNN', 'CNNLSTM', 'CNN Bilstm']\n",
    "mae_values = [mae_lstm, mae_bilstm, mae_gru, mae_bigru, mae_cnn, mae_cnn_lstm, mae_cnn_bilstm]\n",
    "mse_values = [rmse_lstm, rmse_bilstm, rmse_gru, rmse_bigru, rmse_cnn, rmse_cnn_lstm, rmse_cnn_bilstm]\n",
    "r2_values = [r2_lstm, r2_bilstm, r2_gru, r2_bigru, r2_cnn, r2_cnn_lstm, r2_cnn_bilstm]"
   ]
  },
  {
   "cell_type": "markdown",
   "metadata": {},
   "source": [
    "Plot MAE"
   ]
  },
  {
   "cell_type": "code",
   "execution_count": null,
   "metadata": {},
   "outputs": [],
   "source": [
    "plt.figure(figsize=(10, 6))\n",
    "plt.bar(models, mae_values, alpha=0.8, label='MAE')\n",
    "plt.title('MAE for Different Models')\n",
    "plt.ylabel('Mean Absolute Error')\n",
    "plt.xlabel('Various Models')\n",
    "plt.legend()\n",
    "plt.show()"
   ]
  },
  {
   "cell_type": "markdown",
   "metadata": {},
   "source": [
    "Plot MSE"
   ]
  },
  {
   "cell_type": "code",
   "execution_count": null,
   "metadata": {},
   "outputs": [],
   "source": [
    "plt.figure(figsize=(10, 6))\n",
    "plt.bar(models, mse_values, alpha=0.8, label='RMSE', color='orange')\n",
    "plt.title('RMSE for Different Models')\n",
    "plt.ylabel('RMSE')\n",
    "plt.xlabel('Various ML Models')\n",
    "plt.legend()\n",
    "plt.show()"
   ]
  },
  {
   "cell_type": "markdown",
   "metadata": {},
   "source": [
    "Plot R2 Score"
   ]
  },
  {
   "cell_type": "code",
   "execution_count": null,
   "metadata": {},
   "outputs": [],
   "source": [
    "plt.figure(figsize=(12, 6))\n",
    "plt.bar(models, r2_values, alpha=0.8, label='R2 Score', color='indigo')\n",
    "plt.title('R2 Score for Different Models')\n",
    "plt.legend()\n",
    "plt.show()"
   ]
  },
  {
   "cell_type": "markdown",
   "metadata": {},
   "source": [
    "Print Metrics"
   ]
  },
  {
   "cell_type": "code",
   "execution_count": null,
   "metadata": {},
   "outputs": [],
   "source": [
    "print(\"LSTM MAE:\", mae_lstm)\n",
    "print(\"LSTM MSE:\", rmse_lstm)\n",
    "print(\"LSTM R2 Score:\", r2_lstm)\n",
    "print(end=\"\\n\")\n",
    "print(\"BiLSTM MAE:\", mae_bilstm)\n",
    "print(\"BiLSTM MSE:\", rmse_bilstm)\n",
    "print(\"BiLSTM R2 Score:\", r2_bilstm)\n",
    "print(end=\"\\n\")\n",
    "print(\"GRU MAE:\", mae_gru)\n",
    "print(\"GRU MSE:\", rmse_gru)\n",
    "print(\"GRU R2 Score:\", r2_gru)\n",
    "print(end=\"\\n\")\n",
    "print(\"BiGRU MAE:\", mae_bigru)\n",
    "print(\"BiGRU MSE:\", rmse_bigru)\n",
    "print(\"BiGRU R2 Score:\", r2_bigru)\n",
    "print(end=\"\\n\")\n",
    "print(\"CNN MAE:\", mae_cnn)\n",
    "print(\"CNN MSE:\", rmse_cnn)\n",
    "print(\"CNN R2 Score:\", r2_cnn)\n",
    "print(end=\"\\n\")\n",
    "print(\"CNN LSTM MAE:\", mae_cnn_lstm)\n",
    "print(\"CNN LSTM MSE:\", rmse_cnn_lstm)\n",
    "print(\"CNN LSTM R2 Score:\", r2_cnn_lstm)\n",
    "print(end=\"\\n\")\n",
    "print(\"CNN BiLSTM MAE:\", mae_cnn_bilstm)\n",
    "print(\"CNN BiLSTM MSE:\", rmse_cnn_bilstm)\n",
    "print(\"CNN BiLSTM R2 Score:\", r2_cnn_bilstm)"
   ]
  },
  {
   "cell_type": "markdown",
   "metadata": {},
   "source": [
    "Plot predictions for each model"
   ]
  },
  {
   "cell_type": "code",
   "execution_count": null,
   "metadata": {},
   "outputs": [],
   "source": [
    "plt.figure(figsize=(12, 6))\n",
    "plt.plot(y_test, label='Actual', linewidth=2)\n",
    "plt.plot(y_pred_lstm, label=f'LSTM Prediction (R2: {r2_lstm:.3f})', linestyle='dashed')\n",
    "plt.plot(y_pred_bilstm, label=f'BiLSTM Prediction (R2: {r2_bilstm:.3f})', linestyle='dashed')\n",
    "plt.plot(y_pred_gru, label=f'GRU Prediction (R2: {r2_gru:.3f})', linestyle='dashed')\n",
    "plt.plot(y_pred_bigru, label=f'BiGRU Prediction (R2: {r2_bigru:.3f})', linestyle='dashed')\n",
    "plt.plot(y_pred_cnn, label=f'CNN Prediction (R2: {r2_cnn:.3f})', linestyle='dashed')\n",
    "plt.plot(y_pred_cnn_lstm, label=f'CNN_LSTM Prediction (R2: {r2_cnn_lstm:.3f})', linestyle='dashed')\n",
    "plt.plot(y_pred_cnn_bilstm, label=f'CNN_BiLSTM Prediction (R2: {r2_cnn_bilstm:.3f})', linestyle='dashed')\n",
    "plt.xlabel('Data Points')\n",
    "plt.ylabel('Service Delay (Sec)')\n",
    "plt.legend()\n",
    "plt.title('Comparison of Models for 2w')\n",
    "plt.show()"
   ]
  },
  {
   "cell_type": "code",
   "execution_count": null,
   "metadata": {},
   "outputs": [],
   "source": [
    "models = ['LSTM', 'BiLSTM', 'GRU', 'BiGRU', 'CNN', 'CNNLSTM', 'CNN Bilstm']\n",
    "mae_values = [mae_lstm, mae_bilstm, mae_gru, mae_bigru, mae_cnn, mae_cnn_lstm, mae_cnn_bilstm]\n",
    "mse_values = [rmse_lstm, rmse_bilstm, rmse_gru, rmse_bigru, rmse_cnn, rmse_cnn_lstm, rmse_cnn_bilstm]\n",
    "r2_values = [r2_lstm, r2_bilstm, r2_gru, r2_bigru, r2_cnn, r2_cnn_lstm, r2_cnn_bilstm]\n",
    "\n",
    "bar_width = 0.3\n",
    "index = np.arange(len(models))\n",
    "\n",
    "plt.figure(figsize=(14, 6))\n",
    "\n",
    "# Plot MSE\n",
    "plt.bar(index, mse_values, width=bar_width, alpha=0.8, label='RMSE', color='orange')\n",
    "\n",
    "# Plot MAE\n",
    "plt.bar(index + bar_width, mae_values, width=bar_width, alpha=0.8, label='MAE')\n",
    "\n",
    "# Plot R2\n",
    "#plt.bar(index + 2*bar_width, r2_values, width=bar_width, alpha=0.8, label='R2')\n",
    "\n",
    "plt.xlabel('ML Models')\n",
    "plt.ylabel('Error (Sec)')\n",
    "plt.title('Comparison of RMSE and MAE of Models for 2w')\n",
    "plt.xticks(index + bar_width, models, rotation=45)\n",
    "plt.legend()\n",
    "\n",
    "plt.show()"
   ]
  },
  {
   "cell_type": "code",
   "execution_count": null,
   "metadata": {},
   "outputs": [],
   "source": []
  }
 ],
 "metadata": {
  "kernelspec": {
   "display_name": "Python 3",
   "language": "python",
   "name": "python3"
  },
  "language_info": {
   "codemirror_mode": {
    "name": "ipython",
    "version": 3
   },
   "file_extension": ".py",
   "mimetype": "text/x-python",
   "name": "python",
   "nbconvert_exporter": "python",
   "pygments_lexer": "ipython3",
   "version": "3.12.2"
  },
  "orig_nbformat": 4
 },
 "nbformat": 4,
 "nbformat_minor": 2
}
